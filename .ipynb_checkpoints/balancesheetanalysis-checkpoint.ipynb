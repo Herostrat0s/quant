{
 "cells": [
  {
   "cell_type": "code",
   "execution_count": 1,
   "id": "698cb3c9-f2ad-40c3-999e-14632ec1532f",
   "metadata": {},
   "outputs": [],
   "source": [
    "import requests\n",
    "from bs4 import BeautifulSoup\n",
    "import pandas as pd "
   ]
  },
  {
   "cell_type": "code",
   "execution_count": 59,
   "id": "328da178-506a-4dc7-93a1-2914b72216d2",
   "metadata": {},
   "outputs": [],
   "source": [
    "stocks = [\"ACSEL\"]\n",
    "url = \"https://www.isyatirim.com.tr/tr-tr/analiz/hisse/Sayfalar/sirket-karti.aspx?hisse=A1CAP\"\n",
    "r = requests.get(url)"
   ]
  },
  {
   "cell_type": "code",
   "execution_count": 60,
   "id": "debcb1ff-3d85-4ab7-972d-5be95b7faa76",
   "metadata": {},
   "outputs": [
    {
     "name": "stdout",
     "output_type": "stream",
     "text": [
      "<Response [200]>\n"
     ]
    }
   ],
   "source": [
    "print(r)"
   ]
  },
  {
   "cell_type": "code",
   "execution_count": 61,
   "id": "652b3ed7-32b0-40df-b326-f8f939264386",
   "metadata": {},
   "outputs": [],
   "source": [
    "s = BeautifulSoup(r.text,\"html.parser\")"
   ]
  },
  {
   "cell_type": "code",
   "execution_count": 62,
   "id": "cde789dc-96c4-41c2-94dc-322be8c40ab3",
   "metadata": {},
   "outputs": [],
   "source": [
    "s1 = s.find(\"select\",id=\"ddlAddCompare\")"
   ]
  },
  {
   "cell_type": "code",
   "execution_count": 63,
   "id": "297b6998-a999-4efd-9406-a96c78f569a7",
   "metadata": {},
   "outputs": [],
   "source": [
    "c1 = s1.findChild(\"optgroup\").findAll(\"option\")\n"
   ]
  },
  {
   "cell_type": "code",
   "execution_count": 64,
   "id": "2155b9a4-409e-47bf-b8de-d8db04514424",
   "metadata": {},
   "outputs": [],
   "source": [
    "#for stock in c1:\n",
    "#    stocks.append(stock.string)"
   ]
  },
  {
   "cell_type": "code",
   "execution_count": 65,
   "id": "6da51f98-1a1a-4f59-b090-1d033f1c55cf",
   "metadata": {},
   "outputs": [
    {
     "data": {
      "text/plain": [
       "['ACSEL']"
      ]
     },
     "execution_count": 65,
     "metadata": {},
     "output_type": "execute_result"
    }
   ],
   "source": [
    "stocks"
   ]
  },
  {
   "cell_type": "code",
   "execution_count": 75,
   "id": "3a65ea46-3dc1-4f29-8758-7b669fee7eae",
   "metadata": {},
   "outputs": [],
   "source": [
    "for i in stocks:\n",
    "    name = i\n",
    "    dates = []\n",
    "    year = []\n",
    "    periods = []\n",
    "\n",
    "    url_1 = \"https://www.isyatirim.com.tr/tr-tr/analiz/hisse/Sayfalar/sirket-karti.aspx?hisse=\"+name\n",
    "    r_1 = requests.get(url_1)\n",
    "    soup = BeautifulSoup(r_1.text,\"html.parser\")\n",
    "    choice = soup.find(\"select\",id=\"ddlMaliTabloFirst\")\n",
    "    choice_2 = soup.find(\"select\",id=\"ddlMaliTabloGroup\")\n",
    "    \n",
    "    try:\n",
    "        extracted_dates = choice.findChildren(\"option\")\n",
    "        extracted_dates_2 = choice_2.find(\"option\")[\"value\"]\n",
    "    \n",
    "        for date in extracted_dates:\n",
    "            dates.append(date.string.rsplit(\"/\"))\n",
    "        \n",
    "        for j in dates:\n",
    "            year.append(j[0])\n",
    "            periods.append(j[1])\n",
    "    \n",
    "        if len(dates) >= 4:\n",
    "            parameters = (\n",
    "                (\"companyCode\",name),\n",
    "                (\"exchange\",\"TRY\"),\n",
    "                (\"financialGroup\",extracted_dates_2),\n",
    "                (\"year1\",year[0]),\n",
    "                (\"period1\",periods[0]),\n",
    "                (\"year2\",year[1]),\n",
    "                (\"period2\",periods[1]),\n",
    "                (\"year3\",year[2]),\n",
    "                (\"period3\",periods[2]),\n",
    "                (\"year4\",year[3]),\n",
    "                (\"period4\",periods[3]),\n",
    "            )\n",
    "            url_2 = \"https://www.isyatirim.com.tr/_layouts/15/IsYatirim.Website/Common/Data.aspx/MaliTablo\"\n",
    "            r_2= requests.get(url_2,params=parameters).json()[\"value\"]\n",
    "            data = pd.DataFrame.from_dict(r_2)\n",
    "            data.drop(columns=[\"itemCode\",\"itemDescEng\"],inplace=True)\n",
    "        else:\n",
    "            continue\n",
    "    except AttributeError:\n",
    "        continue\n",
    "        del dates[0:4]\n",
    "        all_data = [data]\n",
    "\n",
    "        for _ in range(0,int(len(dates)+1)):\n",
    "            if len(dates) == len(year):\n",
    "                del dates[0:4]\n",
    "            else:\n",
    "                year = []\n",
    "                periods = []\n",
    "                for j in dates:\n",
    "                    year.append(j[0])\n",
    "                    periods.append(j[1])"
   ]
  },
  {
   "cell_type": "code",
   "execution_count": 74,
   "id": "a2d99a27-2222-4e64-a04d-5c66b9e4cc42",
   "metadata": {},
   "outputs": [
    {
     "data": {
      "text/plain": [
       "['2023',\n",
       " '2023',\n",
       " '2023',\n",
       " '2022',\n",
       " '2022',\n",
       " '2022',\n",
       " '2022',\n",
       " '2021',\n",
       " '2021',\n",
       " '2021',\n",
       " '2021',\n",
       " '2020',\n",
       " '2020',\n",
       " '2020',\n",
       " '2020',\n",
       " '2019',\n",
       " '2019',\n",
       " '2019',\n",
       " '2019',\n",
       " '2018',\n",
       " '2018',\n",
       " '2018',\n",
       " '2018',\n",
       " '2017',\n",
       " '2017',\n",
       " '2017',\n",
       " '2017',\n",
       " '2016',\n",
       " '2016',\n",
       " '2016',\n",
       " '2016',\n",
       " '2015',\n",
       " '2015',\n",
       " '2015',\n",
       " '2015',\n",
       " '2014',\n",
       " '2014',\n",
       " '2014',\n",
       " '2014',\n",
       " '2013',\n",
       " '2013',\n",
       " '2013',\n",
       " '2013',\n",
       " '2012',\n",
       " '2012',\n",
       " '2012',\n",
       " '2012',\n",
       " '2011',\n",
       " '2011',\n",
       " '2011',\n",
       " '2011',\n",
       " '2010',\n",
       " '2009']"
      ]
     },
     "execution_count": 74,
     "metadata": {},
     "output_type": "execute_result"
    }
   ],
   "source": []
  },
  {
   "cell_type": "code",
   "execution_count": null,
   "id": "07535f17-664f-44a4-a8b6-2f45fcf79c62",
   "metadata": {},
   "outputs": [],
   "source": []
  }
 ],
 "metadata": {
  "kernelspec": {
   "display_name": "Python 3 (ipykernel)",
   "language": "python",
   "name": "python3"
  },
  "language_info": {
   "codemirror_mode": {
    "name": "ipython",
    "version": 3
   },
   "file_extension": ".py",
   "mimetype": "text/x-python",
   "name": "python",
   "nbconvert_exporter": "python",
   "pygments_lexer": "ipython3",
   "version": "3.12.0"
  }
 },
 "nbformat": 4,
 "nbformat_minor": 5
}
